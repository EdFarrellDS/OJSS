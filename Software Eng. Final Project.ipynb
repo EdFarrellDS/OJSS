{
 "cells": [
  {
   "cell_type": "code",
   "execution_count": null,
   "metadata": {},
   "outputs": [],
   "source": [
    "# Visual formatting options\n",
    "\n",
    "# Sets the display to 98% of the window's max width.\n",
    "from IPython.core.display import display, HTML\n",
    "display(HTML(\"<style>.container { width:98% !important; }</style>\"))"
   ]
  },
  {
   "cell_type": "markdown",
   "metadata": {},
   "source": [
    "<div class=\"alert alert-block alert-info\">\n",
    "\n",
    "## Table of Contents <a name=\"ToC\"></a>\n",
    "\n",
    "- [1. TO-DO and Functions list](#todo) <br>\n",
    "   - [1.1 Importing libraries & Reading in data](#importing) <br>\n",
    "- [2. Read and/or generate databases](#allframes) <br>\n",
    "- [3. General functions](#general) <br>\n",
    "- [4. Job Seeker functions](#seeker) <br>\n",
    "- [5. Job Recruiter functions](#recruiter) <br>\n",
    "\n"
   ]
  },
  {
   "cell_type": "markdown",
   "metadata": {},
   "source": [
    "<div class=\"alert alert-block alert-danger\">\n",
    "\n",
    "# TO-DO LIST <a name=\"todo\"></a>\n",
    "[Return to Table of Contents](#ToC) <br>\n",
    "\n",
    "- Build class wrappers\n",
    "  - User class\n",
    "  - Job class (Listing Creation, Listing Read, Job Application Creation, Job Application Read) \n",
    "      - Search subclass?\n",
    "\n",
    "- Run obfuscation for password\n",
    "  -  Cryptographic library instead?\n",
    "- Pull file system manipulation for saving Jupyter notebooks from previous programs\n",
    "- Blow shit up\n",
    "- Use something like getpass (library) to hide input responses"
   ]
  },
  {
   "cell_type": "markdown",
   "metadata": {},
   "source": [
    "## Functions list\n",
    "***\n",
    "### General functions\n",
    "- Create account\n",
    "- Login to account\n",
    "- Update account\n",
    "  - ___Should applicants be able to change their status from Seeker to Recruiter / vice versa?___\n",
    "\n",
    "***\n",
    "### Recruiter functions\n",
    "- Create Job Categories\n",
    "- Create Job Listing\n",
    "- Manage Job Categories\n",
    "- Manage Job Listing\n",
    "- Publish Job\n",
    "  - ___Should this have a secondary password checker? Should anything have it?___\n",
    "- Check Job Applicants\n",
    "- Headhunter Interview\n",
    "- Job Applicant Interview\n",
    "\n",
    "***\n",
    "### Seeker functions\n",
    "- Manage Skillset\n",
    "- Search for Job\n",
    "  - Apply for Job\n",
    "- Respond to Interview Invitation\n",
    "\n",
    "***\n",
    "### System functions\n",
    "- Score matching for job search / headhunter search"
   ]
  },
  {
   "cell_type": "markdown",
   "metadata": {},
   "source": [
    "<div class=\"alert alert-block alert-info\">\n",
    "\n",
    "## Imports and global declarations <a name=\"importing\"></a>\n",
    "[Return to Table of Contents](#ToC) <br>\n"
   ]
  },
  {
   "cell_type": "code",
   "execution_count": 1,
   "metadata": {},
   "outputs": [],
   "source": [
    "# -------\n",
    "# Imports\n",
    "# -------\n",
    "\n",
    "# Top-level, and always useful\n",
    "import re\n",
    "import os\n",
    "from collections import Counter\n",
    "from IPython.display import display\n",
    "import sys\n",
    "from copy import copy\n",
    "\n",
    "# Misc\n",
    "import random\n",
    "\n",
    "# Dataframes, yo!\n",
    "import pandas as pd\n",
    "import numpy as np\n",
    "\n",
    "# ---------\n",
    "# Functions\n",
    "# ---------\n",
    "# Flatten list of lists\n",
    "def flatten(list_of_lists):\n",
    "    return [item for sublist in list_of_lists for item in sublist]\n",
    "\n",
    "# Append items to list in-line, returning a list with appended items\n",
    "def ret_append(lst, item):\n",
    "    lst.append(item)\n",
    "    return lst\n",
    "\n",
    "# -----------------\n",
    "# Misc declarations\n",
    "# -----------------\n",
    "# Pandas declarations\n",
    "\n",
    "# Hide Chained Assignment (SettingWithCopy warning)\n",
    "pd.options.mode.chained_assignment = None  # default='warn'"
   ]
  },
  {
   "cell_type": "code",
   "execution_count": null,
   "metadata": {},
   "outputs": [],
   "source": [
    "# Global variables\n",
    "current_UID = ''\n",
    "password_attempts = 0\n",
    "all_frames = [accts]"
   ]
  },
  {
   "cell_type": "code",
   "execution_count": null,
   "metadata": {},
   "outputs": [],
   "source": [
    "# Demo account user ID\n",
    "accts.UID[accts.email == 'tester@jobapps.org'][0]"
   ]
  },
  {
   "cell_type": "markdown",
   "metadata": {},
   "source": [
    "<div class=\"alert alert-block alert-info\">\n",
    "\n",
    "## Read and/or import databases <a name=\"allframes\"></a>\n",
    "[Return to Table of Contents](#ToC) <br>\n"
   ]
  },
  {
   "cell_type": "code",
   "execution_count": 7,
   "metadata": {},
   "outputs": [],
   "source": [
    "# Database file names\n",
    "accounts_db = \"test_db.csv\""
   ]
  },
  {
   "cell_type": "markdown",
   "metadata": {},
   "source": [
    "### Account details database"
   ]
  },
  {
   "cell_type": "code",
   "execution_count": 2,
   "metadata": {},
   "outputs": [],
   "source": [
    "# Checks whether database is present in CWD; if not, generate a new database\n",
    "\n",
    "if assert accounts_db in os.listdir(os.getcwd()):\n",
    "    accts = pd.read_csv(accounts_db)\n",
    "else:\n",
    "    # Test dataframe - replace with CSV file on network drive where possible\n",
    "    demo_seeker = {'firstName':'Ted',\n",
    "            'lastName':'Testable',\n",
    "            'password':['testerted'],\n",
    "           'isSeeker':True,\n",
    "           'UID':'tetest0001s',\n",
    "           'email':'tester@jobapps.org',\n",
    "           'skills':[['Systems Testing', 'Network Security', 'Data Science']]\n",
    "           }\n",
    "\n",
    "    demo_recruiter = {'firstName':'Rick',\n",
    "            'lastName':'Recruitable',\n",
    "            'password':['recruiterrick'],\n",
    "           'isSeeker':False,\n",
    "           'UID':'rirecr0001r',\n",
    "           'email':'recruiter@jobapps.org',\n",
    "           'skills':[[]]\n",
    "           }\n",
    "    accts = pd.concat([pd.DataFrame(demo_seeker), pd.DataFrame(demo_recruiter)])\n",
    "    accts = accts[['UID', 'firstName', 'lastName', 'email', 'password', 'isSeeker', 'skills']]\n",
    "    accts.to_csv(\"test_db.csv\", index=False)"
   ]
  },
  {
   "cell_type": "markdown",
   "metadata": {},
   "source": [
    "### Job categories dataframe"
   ]
  },
  {
   "cell_type": "code",
   "execution_count": null,
   "metadata": {},
   "outputs": [],
   "source": [
    "#demo = {'catID':'00001', 'catName':'Data Science'}\n",
    "#job_cats = pd.DataFrame(demo)\n",
    "\n"
   ]
  },
  {
   "cell_type": "markdown",
   "metadata": {},
   "source": [
    "### Job Listings dataframe"
   ]
  },
  {
   "cell_type": "code",
   "execution_count": null,
   "metadata": {},
   "outputs": [],
   "source": []
  },
  {
   "cell_type": "markdown",
   "metadata": {},
   "source": [
    "### Interview dataframe"
   ]
  },
  {
   "cell_type": "code",
   "execution_count": 5,
   "metadata": {},
   "outputs": [],
   "source": [
    "accts.to_csv(\"test_db.csv\", index=False)"
   ]
  },
  {
   "cell_type": "markdown",
   "metadata": {},
   "source": [
    "<div class=\"alert alert-block alert-info\">\n",
    "\n",
    "## General functions <a name=\"general\"></a>\n",
    "[Return to Table of Contents](#ToC) <br>"
   ]
  },
  {
   "cell_type": "code",
   "execution_count": null,
   "metadata": {},
   "outputs": [],
   "source": [
    "# Create a new account.\n",
    "# Takes full name, email, new password (inc. checks), whether the user is a seeker or a recruiter, and generates a unique\n",
    "# user ID.\n",
    "\n",
    "def genAcct(database):\n",
    "    # ------------------------------------------\n",
    "    # Request & store user details\n",
    "    # ------------------------------------------\n",
    "    \n",
    "    # Names\n",
    "    first = input(\"What is your first name? \")\n",
    "    last = input(\"What is your surname? \")\n",
    "\n",
    "    # Email and password; use first and last name + email to check if the applicant is already in the system\n",
    "    email = input(\"What is your email address?\")\n",
    "    if len(accts[(accts.email == email)]) != 0:\n",
    "        print(\"\\nWARNING: An account with the email is recorded in the system - please login, or contact us on [GENERIC_EMAIL] if you\"+\n",
    "              \" have forgotten your password.\")\n",
    "        exit\n",
    "    check_state = False\n",
    "    while check_state == False:\n",
    "        password = input(\"Please type your password: \")\n",
    "        pass_check = input(\"Please type your password again to confirm: \")\n",
    "        if password == pass_check:\n",
    "            check_state = True\n",
    "        else:\n",
    "            print(\"Passwords did not match; please try again.\")\n",
    "    \n",
    "    # ------------------------------------------\n",
    "    # Request job seeker / recruiter status\n",
    "    # ------------------------------------------\n",
    "    \n",
    "    def Seeker():\n",
    "        isSeeker = input(\"Are you a jobseeker? If so, please type True. If not, please type False. \")\n",
    "        if isSeeker.lower() == 'true':\n",
    "            isSeeker = True\n",
    "        elif isSeeker.lower() == 'false':\n",
    "            isSeeker = False\n",
    "        else: # Recursive request if not True/False\n",
    "            print(\"Not a recognised input; please try again.\")\n",
    "            isSeeker = Seeker()\n",
    "        return isSeeker\n",
    "    isSeeker = Seeker()\n",
    "    \n",
    "    # ------------------------------------------\n",
    "    # Generate unique user ID - append 'x's if chars are missing from name, and then 000x numbering.\n",
    "    # ------------------------------------------\n",
    "    \n",
    "    # Name substring\n",
    "    id_string = first.lower()[0:2] + last.lower()[0:4]\n",
    "    if len(id_string) < 6:\n",
    "        id_string += (6-len(id_string))*'x'\n",
    "    \n",
    "    # Counts the occurence count of the user ID, add one, and use this for numbering.\n",
    "    id_string += (str(len(accts[accts['UID'].str.contains(id_string)])+1).zfill(4))\n",
    "    \n",
    "    # 's'/'r' seeker/recruiter substring\n",
    "    if isSeeker:\n",
    "        id_string += ('s')\n",
    "    else:\n",
    "        id_string += ('r')\n",
    "    \n",
    "    # ------------------------------------------\n",
    "    # Generates new account details to database after checking data\n",
    "    # ------------------------------------------\n",
    "    \n",
    "    # Check data\n",
    "    assert isinstance(first, str)\n",
    "    assert isinstance(last, str)\n",
    "    assert isinstance(isSeeker, bool)\n",
    "    \n",
    "    # Generate new row for database\n",
    "    details = {'firstName':first,\n",
    "    'lastName':last,\n",
    "    'password':password,\n",
    "   'isSeeker':isSeeker,\n",
    "   'UID':id_string,\n",
    "   'email':email,\n",
    "   'skills':[],\n",
    "   }\n",
    "    database.loc[len(database)] = details\n",
    "    \n",
    "    # Update CSV file storing database\n",
    "    accts.to_csv(accounts_db, index=False)\n",
    "    \n",
    "    return \"New account added.\""
   ]
  },
  {
   "cell_type": "code",
   "execution_count": null,
   "metadata": {},
   "outputs": [],
   "source": [
    "def login(attempts = 0):\n",
    "    # Carry over however many password attempts have been made previously.\n",
    "    password_attempts = attempts\n",
    "    login_email = input(\"Please provide your email address.\")\n",
    "    \n",
    "    # If email not present, either retry login or go to account generation. Return to login if unclear.\n",
    "    if len(accts[accts.email == login_email]) == 0:\n",
    "        print(\"Email account not detected.\")\n",
    "        option = input(\"Either type RETRY to attempt again, or NEW ACCOUNT to proceed to account creation.\")\n",
    "        if option.lower() == 'retry':\n",
    "            return login()\n",
    "        elif option.lower() == 'new account':\n",
    "            return genAcct(accts)\n",
    "        else:\n",
    "            print(\"Input not recognised. Returning you to the login page.\")\n",
    "            return login()\n",
    "    \n",
    "    # If account detected, request & check password for email. If successful, set global var current_UID = UID from email.\n",
    "    if len(accts[accts.email == login_email]) == 1:\n",
    "        if checkEmailPassword(login_email, accts):\n",
    "            global current_UID\n",
    "            current_UID = accts.UID[accts.email == login_email][0]\n",
    "            password_attempts = 0\n",
    "        else: # If password incorrect, offer another try. Login attempts are limited to 5 times.\n",
    "            password_attempts += 1\n",
    "            while password_attempts <= 5:\n",
    "                print(\"Password incorrect. Please try again. You have\", 5-password_attempts, \"attempts left.\")\n",
    "                return login(password_attempts)\n",
    "            else:\n",
    "                return(\"Password incorrect. You have tried to login with an incorrect password too many times. Please \"+\n",
    "                     \"contact support at [GENERIC_EMAIL].\")\n",
    "    \n",
    "    # If email not detected, offer a retry, an exit, or new account creation.\n",
    "    else:\n",
    "        while new_acct.lower not in ['yes', 'exit', 'retry']:\n",
    "            new_acct = input(\"Email not detected. Please type YES to proceed to account creation, RETRY to attempt login\"+\n",
    "                             \"again, otherwise type EXIT to close the platform.\")\n",
    "            if new_acct.lower() == 'yes':\n",
    "                genAcct(accts)\n",
    "            elif new_acct.lower() == 'exit':\n",
    "                logout()\n",
    "            elif new_acct.lower() == 'retry':\n",
    "                login()\n",
    "\n",
    "# Uses UID from the accounts database to set UID value, which can be carried across all databases if necessary.\n",
    "def checkEmailPassword(email_checked, database):\n",
    "    uid = accts.UID[accts.email == email_checked][0]\n",
    "    state = False\n",
    "    login_password = input(\"Please provide your password.\")\n",
    "    if login_password == database.password[database.UID == uid][0]:\n",
    "        state = True\n",
    "    else:\n",
    "        state = False\n",
    "    return state\n",
    "\n",
    "# Reset global var current_UID to empty string. Returns login function\n",
    "def logout():\n",
    "    global current_UID\n",
    "    current_UID = ''\n",
    "    print(\"Logged out. Please login to continue.\")\n",
    "    return login()                \n"
   ]
  },
  {
   "cell_type": "code",
   "execution_count": 8,
   "metadata": {},
   "outputs": [],
   "source": [
    "# Update user email, password, or Job Seeker status.\n",
    "def updateAccount():\n",
    "    if current_UID == '':\n",
    "        login()\n",
    "    details_dict = {'1':'email', '2':'password', '3':'isSeeker', '4':'EXIT'}\n",
    "    print(\"Please select from the following options:\\n\"+\n",
    "         \"1. Change email\\n\"+\n",
    "         \"2. Change password\\n\"+\n",
    "         \"3. Change role (Job Seeker or Recruiter)\\n\"+\n",
    "         \"4. Exit\")\n",
    "    choice = ''\n",
    "    # Take input prompt\n",
    "    while choice not in ['1', '2', '3', '4']:\n",
    "        choice = input(\"Please select the number option that you wish to proceed with.\")\n",
    "    \n",
    "    # Use dict key:val to edit dataframe.\n",
    "    # If just updating email or password, changes only need to be made to the accts dataframe.\n",
    "    if choice in ['1', '2']:\n",
    "        print(\"Change\", details_dict[1], \"selected.\")\n",
    "        details = input(\"What would you like to change this to?\")\n",
    "        accts[details_dict[choice]][accts.UID == current_UID] = details\n",
    "        return updateAccount()\n",
    "    \n",
    "    # If updating isSeeker status, all occurences of the user ID will have to change in all dataframes.\n",
    "    #elif choice == '3':\n",
    "    #    old_uid = copy(current_UID)\n",
    "    #    print(\"Changing Job Seeker/Recruiter status selected. Please enter 's' for Job Seeker, or 'r' for Job Recruiter (without quotation marks).\")\n",
    "    #    details = input(\"What would you like to change your status to?\")\n",
    "    #    if details in ['r', 's']:\n",
    "    #        new_uid = old_uid[:-1] + details\n",
    "    #        for dataframe in all_frames: # Iterates through all dataframes, changing any occurence of the current UID to an editted version where the trailing 's'/'r' is updated.\n",
    "    #            dataframe.UID[dataframe.UID = old_uid] = new_uid\n",
    "    else:\n",
    "        pass\n",
    "    # Update CSV file storing database\n",
    "    accts.to_csv(accounts_db, index=False)\n",
    "    return"
   ]
  },
  {
   "cell_type": "markdown",
   "metadata": {},
   "source": [
    "<div class=\"alert alert-block alert-info\">\n",
    "\n",
    "## Job Seeker functions <a name=\"seeker\"></a>\n",
    "[Return to Table of Contents](#ToC) <br>"
   ]
  },
  {
   "cell_type": "code",
   "execution_count": null,
   "metadata": {},
   "outputs": [],
   "source": [
    "# Prompt users to provide their skill sets. Use Levenshtein checker to compare to existing skills (inc. lemmatization?)\n",
    "def updateSkills():\n",
    "    # Pull system-wide skills and compare using Levenshtein distance.\n",
    "    global_skills = []\n",
    "    for skill_list in accts.skills.tolist():\n",
    "        for skill in skill_list:\n",
    "            global_skills.append(skill)\n",
    "    \n",
    "    # Pull the skills the user wants to add to their skillset, and then check if close terms exist\n",
    "    skill_store = input(\"Please provide your skills, separating each skillset by a comma.\").split(',')\n",
    "    for skill in skill_store:\n",
    "        print(skill)\n",
    "        ## LEVENSTEIN CHECK AGAINST CURRENT_SKILLS FOR EACH SKILL;\n",
    "        ## REPACE OPTION IF EDIT DISTANCE IS MINOR TO EXISTING SKILL\n",
    "        \n",
    "    # Generate new frame, then update the details in the matching index with the new frame.\n",
    "    #user_skills = flatten(accts.skills[accts.UID == current_UID].tolist())\n",
    "    new_data = pd.DataFrame({'skills':skill_store}, index=[accts[accts.UID == current_UID].index[0]])\n",
    "    accts.update(new_data)\n",
    "    \n",
    "    # Update CSV file storing database\n",
    "    accts.to_csv(accounts_db, index=False)\n",
    "    return \"Skills updated.\""
   ]
  },
  {
   "cell_type": "code",
   "execution_count": null,
   "metadata": {},
   "outputs": [],
   "source": [
    "def jobSearch():\n",
    "    return(\"Job search functionality not implemented yet.\")"
   ]
  },
  {
   "cell_type": "code",
   "execution_count": null,
   "metadata": {},
   "outputs": [],
   "source": [
    "def checkIntInvitations():\n",
    "    return(\"Interview invitation request checking not implemented yet.\")"
   ]
  },
  {
   "cell_type": "code",
   "execution_count": null,
   "metadata": {},
   "outputs": [],
   "source": [
    "# Assert userid flag is for \n",
    "def menu():\n",
    "    if current_UID[-1] == 's':\n",
    "        seekerMenu()\n",
    "    elif current_UID[-1] == 'r':\n",
    "        recruiterMenu()\n",
    "    elif current_UID[-1] == 'a':\n",
    "        adminMenu()\n",
    "    else:\n",
    "        print(\"Account UID is non-standard - please contact support at [GENERIC_EMAIL] as soon as possible.\"+\n",
    "              \"You will now be logged out\")\n",
    "        logout()"
   ]
  },
  {
   "cell_type": "code",
   "execution_count": null,
   "metadata": {},
   "outputs": [],
   "source": [
    "def seekerMenu():\n",
    "    print(\"Available options:\\n\"+\n",
    "          \"1. Update Skills\\n\"+\n",
    "          \"2. Search for Jobs\\n\"+\n",
    "         \"3. See Current Interview Invitations\\n\"+\n",
    "         \"4. Exit\")\n",
    "    request = input(\"Please select the number option that you wish to proceed with.\")\n",
    "    if request == '1':\n",
    "        updateSkills()\n",
    "    elif request == '2':\n",
    "        jobSearch()\n",
    "    elif request == '3':\n",
    "        checkIntInvitations()\n",
    "    elif request == '4':\n",
    "        logout()\n",
    "        return\n",
    "    else:\n",
    "        print(\"Input not recognised.\")\n",
    "        return seekerMenu()\n",
    "            \n",
    "def recruiterMenu():\n",
    "    return(\"Not enabled yet\")\n",
    "    \n",
    "def adminMenu():\n",
    "    return(\"Not enabled yet\")"
   ]
  },
  {
   "cell_type": "markdown",
   "metadata": {},
   "source": [
    "<div class=\"alert alert-block alert-info\">\n",
    "\n",
    "## Job Recruiter functions <a name=\"recruiter\"></a>\n",
    "[Return to Table of Contents](#ToC) <br>"
   ]
  },
  {
   "cell_type": "code",
   "execution_count": null,
   "metadata": {},
   "outputs": [],
   "source": [
    "# Generate new job categories. Need to import Levenshtein checker to compare to existing jobs\n",
    "def genJobCategory():\n",
    "    pass"
   ]
  },
  {
   "cell_type": "markdown",
   "metadata": {},
   "source": [
    "<div class=\"alert alert-block alert-info\">\n",
    "\n",
    "## Testing section <a name=\"testing\"></a>\n",
    "[Return to Table of Contents](#ToC) <br>\n",
    "\n",
    "\n",
    "Please restrict testing to this section of the notebook."
   ]
  },
  {
   "cell_type": "code",
   "execution_count": null,
   "metadata": {},
   "outputs": [],
   "source": [
    "display(accts)\n",
    "genAcct(accts)"
   ]
  },
  {
   "cell_type": "code",
   "execution_count": null,
   "metadata": {},
   "outputs": [],
   "source": [
    "login()"
   ]
  },
  {
   "cell_type": "code",
   "execution_count": null,
   "metadata": {},
   "outputs": [],
   "source": [
    "current_UID = 'tetest0001s'"
   ]
  },
  {
   "cell_type": "code",
   "execution_count": null,
   "metadata": {},
   "outputs": [],
   "source": [
    "updateAccount()"
   ]
  },
  {
   "cell_type": "code",
   "execution_count": null,
   "metadata": {},
   "outputs": [],
   "source": [
    "menu()"
   ]
  },
  {
   "cell_type": "code",
   "execution_count": null,
   "metadata": {},
   "outputs": [],
   "source": []
  }
 ],
 "metadata": {
  "kernelspec": {
   "display_name": "Python 3",
   "language": "python",
   "name": "python3"
  },
  "language_info": {
   "codemirror_mode": {
    "name": "ipython",
    "version": 3
   },
   "file_extension": ".py",
   "mimetype": "text/x-python",
   "name": "python",
   "nbconvert_exporter": "python",
   "pygments_lexer": "ipython3",
   "version": "3.6.4"
  }
 },
 "nbformat": 4,
 "nbformat_minor": 2
}
